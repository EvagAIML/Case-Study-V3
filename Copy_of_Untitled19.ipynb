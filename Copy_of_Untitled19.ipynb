{
  "nbformat": 4,
  "nbformat_minor": 0,
  "metadata": {
    "colab": {
      "provenance": [],
      "authorship_tag": "ABX9TyM5hQm4z1GI9jcoPTJN50hm",
      "include_colab_link": true
    },
    "kernelspec": {
      "name": "python3",
      "display_name": "Python 3"
    },
    "language_info": {
      "name": "python"
    }
  },
  "cells": [
    {
      "cell_type": "markdown",
      "metadata": {
        "id": "view-in-github",
        "colab_type": "text"
      },
      "source": [
        "<a href=\"https://colab.research.google.com/github/EvagAIML/Case-Study-V3/blob/main/Copy_of_Untitled19.ipynb\" target=\"_parent\"><img src=\"https://colab.research.google.com/assets/colab-badge.svg\" alt=\"Open In Colab\"/></a>"
      ]
    },
    {
      "cell_type": "code",
      "execution_count": null,
      "metadata": {
        "id": "jGExXUrWAc5E"
      },
      "outputs": [],
      "source": []
    },
    {
      "cell_type": "code",
      "source": [
        "# ============================================================\n",
        "# 0) Install Required Libraries (latest compatible versions for reproducibility)\n",
        "#    Colab: run this, then Runtime -> Restart runtime\n",
        "# ============================================================\n",
        "\n",
        "!pip install -q --user numpy pandas scikit-learn \\\n",
        "                   matplotlib seaborn xgboost imbalanced-learn"
      ],
      "metadata": {
        "id": "vUy4lOg7Ad3n"
      },
      "execution_count": null,
      "outputs": []
    },
    {
      "cell_type": "code",
      "source": [],
      "metadata": {
        "id": "N2KSXuctBDWg"
      },
      "execution_count": null,
      "outputs": []
    },
    {
      "cell_type": "code",
      "source": [
        "# ============================================================\n",
        "# 1) Problem Statement (printed for context)\n",
        "# ============================================================\n",
        "\n",
        "problem_txt = \"\"\"\n",
        "Business Context\n",
        "Organizations in the United States face rising demand for skilled labor and rely on foreign workers to fill gaps.\n",
        "U.S. immigration programs allow temporary and permanent employment of foreign workers while protecting local labor markets.\n",
        "\n",
        "Objective\n",
        "The task is to build a machine-learning classifier that helps prioritize visa cases by predicting whether an\n",
        "application will be CERTIFIED or DENIED and to identify the drivers influencing that decision.\n",
        "\n",
        "Data Description (key columns)\n",
        "- case_id: unique case identifier\n",
        "- continent: applicant’s continent\n",
        "- education_of_employee: highest education\n",
        "- has_job_experience: YES/NO\n",
        "- requires_job_training: YES/NO\n",
        "- no_of_employees: employer’s workforce size\n",
        "- yr_of_estab: employer establishment year\n",
        "- region_of_employment: intended U.S. region\n",
        "- prevailing_wage: prevailing wage value\n",
        "- unit_of_wage: HOUR/WEEK/MONTH/YEAR\n",
        "- full_time_position: YES/NO\n",
        "- case_status: CERTIFIED or DENIED (target)\n",
        "\"\"\"\n",
        "print(problem_txt)"
      ],
      "metadata": {
        "colab": {
          "base_uri": "https://localhost:8080/"
        },
        "id": "CS_KzwYcBDuG",
        "outputId": "ce9858bd-13da-414c-e2ca-c073145fcd61"
      },
      "execution_count": null,
      "outputs": [
        {
          "output_type": "stream",
          "name": "stdout",
          "text": [
            "\n",
            "Business Context\n",
            "Organizations in the United States face rising demand for skilled labor and rely on foreign workers to fill gaps.\n",
            "U.S. immigration programs allow temporary and permanent employment of foreign workers while protecting local labor markets.\n",
            "\n",
            "Objective\n",
            "The task is to build a machine-learning classifier that helps prioritize visa cases by predicting whether an\n",
            "application will be CERTIFIED or DENIED and to identify the drivers influencing that decision.\n",
            "\n",
            "Data Description (key columns)\n",
            "- case_id: unique case identifier\n",
            "- continent: applicant’s continent\n",
            "- education_of_employee: highest education\n",
            "- has_job_experience: YES/NO\n",
            "- requires_job_training: YES/NO\n",
            "- no_of_employees: employer’s workforce size\n",
            "- yr_of_estab: employer establishment year\n",
            "- region_of_employment: intended U.S. region\n",
            "- prevailing_wage: prevailing wage value\n",
            "- unit_of_wage: HOUR/WEEK/MONTH/YEAR\n",
            "- full_time_position: YES/NO\n",
            "- case_status: CERTIFIED or DENIED (target)\n",
            "\n"
          ]
        }
      ]
    }
  ]
}